{
  "metadata": {
    "kernelspec": {
      "name": "python",
      "display_name": "Python (Pyodide)",
      "language": "python"
    },
    "language_info": {
      "codemirror_mode": {
        "name": "python",
        "version": 3
      },
      "file_extension": ".py",
      "mimetype": "text/x-python",
      "name": "python",
      "nbconvert_exporter": "python",
      "pygments_lexer": "ipython3",
      "version": "3.8"
    }
  },
  "nbformat_minor": 5,
  "nbformat": 4,
  "cells": [
    {
      "id": "f2519b39-2152-4402-80d0-4bb296f70ebd",
      "cell_type": "markdown",
      "source": "# Data Science Tools and Ecosystem",
      "metadata": {}
    },
    {
      "id": "a9fc9385-8f12-4841-9eb3-de112e5783a6",
      "cell_type": "markdown",
      "source": "In this notebook, Data Science Tools and Ecosystem are summarized.",
      "metadata": {}
    },
    {
      "id": "cb585ac2-b7a4-48fb-a05c-448634911d99",
      "cell_type": "markdown",
      "source": "Objectives:\n- Listar los lenguajes populares para la Ciencia de Datos.\n- Identificar bibliotecas clave utilizadas en Ciencia de Datos.\n- Describir herramientas esenciales para la Ciencia de Datos.\n- Presentar ejemplos de expresiones aritméticas en Python.\n- Escribir y ejecutar código para realizar operaciones matemáticas.",
      "metadata": {}
    },
    {
      "id": "406b3817-89c7-47a1-9840-6c4a4de79faf",
      "cell_type": "markdown",
      "source": "Some of the popular languages that Data Scientists use are:\n\n* Python\n* R\n* SQL\n* Julia\n* Scala",
      "metadata": {}
    },
    {
      "id": "93d77573-5fcd-4618-8cd4-ce688ee199a4",
      "cell_type": "markdown",
      "source": "Some of the commonly used libraries used by Data Scientists include:\n\n* NumPy\n* Pandas\n* Matplotlib\n* Scikit-learn\n* TensorFlow\n* PyTorch",
      "metadata": {}
    },
    {
      "id": "34d2048c-0718-459a-bb0b-72a9c91b2927",
      "cell_type": "markdown",
      "source": "Data Science Tools\n\n| Herramienta       | Descripción                                          |\n|-------------------|------------------------------------------------------|\n| Jupyter Notebook  | Entorno interactivo para ejecutar código de Python   |\n| RStudio           | Entorno para el desarrollo en R                      |\n| TensorFlow        | Biblioteca para aprendizaje automático               |\n| Apache Spark      | Motor de procesamiento de grandes volúmenes de datos |\n| Tableau           | Herramienta de visualización de datos                |",
      "metadata": {}
    },
    {
      "id": "52c5f1c2-38ff-4a3d-9dc0-997802f609ad",
      "cell_type": "markdown",
      "source": "Below are a few examples of evaluating arithmetic expressions in Python\n\n- Suma: `3 + 5 = 8`\n- Resta: `10 - 4 = 6`\n- Multiplicación: `6 * 7 = 42`\n- División: `8 / 2 = 4`",
      "metadata": {}
    },
    {
      "id": "928bc592-5663-4ecc-af0c-6b6b892b37a5",
      "cell_type": "code",
      "source": "# This a simple arithmetic expression to multiply then add integers:\n(3*4)+5",
      "metadata": {
        "trusted": true
      },
      "outputs": [
        {
          "execution_count": 13,
          "output_type": "execute_result",
          "data": {
            "text/plain": "17"
          },
          "metadata": {}
        }
      ],
      "execution_count": 13
    },
    {
      "id": "5fcb2127-a4d1-4763-8957-8e67f5db1dbc",
      "cell_type": "code",
      "source": "# This will convert 200 minutes to hours by diving by 60\n\nprint(\"Conversión de minutos a horas:\")\nminutos = 200\nhoras = minutos / 60\nprint(minutos, \"minutos equivalen a\", horas, \"horas\")",
      "metadata": {
        "trusted": true
      },
      "outputs": [
        {
          "name": "stdout",
          "output_type": "stream",
          "text": "Conversión de minutos a horas:\n200 minutos equivalen a 3.3333333333333335 horas\n"
        }
      ],
      "execution_count": 15
    },
    {
      "id": "8f5e9c36-e192-4ee9-894b-631bae715222",
      "cell_type": "markdown",
      "source": "## Author\nKenyi Antony Huicho Huamán",
      "metadata": {}
    },
    {
      "id": "68c5f229-c879-46b1-b1c7-dceb333dcde3",
      "cell_type": "code",
      "source": "",
      "metadata": {
        "trusted": true
      },
      "outputs": [],
      "execution_count": null
    }
  ]
}